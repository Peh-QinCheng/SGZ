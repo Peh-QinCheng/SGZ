{
 "cells": [
  {
   "cell_type": "code",
   "execution_count": 1,
   "metadata": {
    "collapsed": false
   },
   "outputs": [],
   "source": [
    "# -*- coding: utf-8 -*-\n",
    "\"\"\"\n",
    "Created on Mon Apr 11 01:08:27 2016\n",
    "\n",
    "@author: pehqincheng\n",
    "\"\"\"\n",
    "## Need to label graph by subzone also\n",
    "import networkx as nx\n",
    "import matplotlib.pyplot as plt\n",
    "import random \n",
    "import copy\n",
    "import csv\n",
    "import math\n",
    "\n",
    "def combine_graph(graph_array):\n",
    "    anchor_graph = graph_array.pop(0)\n",
    "    for i in graph_array:\n",
    "        ## Create start end index for range\n",
    "        start = len(anchor_graph)\n",
    "        end = start + len(i)\n",
    "        mapping=dict(zip(i.nodes(),range(start,end)))\n",
    "        ## make new graph that is relabelled\n",
    "        rlb_graph = nx.relabel_nodes(i,mapping)\n",
    "        ## Add relabelled graph into anchor graph\n",
    "        anchor_graph.add_nodes_from(rlb_graph.nodes(data=True))\n",
    "        anchor_graph.add_edges_from(rlb_graph.edges(data=True))\n",
    "    return anchor_graph\n",
    "\n",
    "def read_csv(csv_path):\n",
    "    row_con = []\n",
    "    loc_count = {}\n",
    "    loc_coord = {}\n",
    "    pop = {}\n",
    "    with open(csv_path, 'rb') as f:\n",
    "        reader = csv.reader(f)\n",
    "        reader.next()\n",
    "        for row in reader:\n",
    "            pop[row[1]] = int(row[9])\n",
    "            loc_count[row[1]] = 0\n",
    "            loc_coord[row[1]] = (float(row[11].replace(\",\",\"\")), float(row[12].replace(\",\",\"\")))\n",
    "            con = {'location':row[1],'zone':row[3],'nodes_num':int(row[9]),'prob':float(row[10])}           \n",
    "            row_con.append(con)\n",
    "    return row_con,loc_count,loc_coord,pop\n",
    "\n",
    "def flip(p):\n",
    "    return 'I' if random.random() <= p else 'S'\n",
    "    \n",
    "#er=nx.erdos_renyi_graph(10,0.5)\n",
    "#erc = copy.deepcopy(er)\n",
    "#er.node[1]['status'] = 'I'\n",
    "#print er.node[1]\n",
    "#\n",
    "#er2 = nx.erdos_renyi_graph(10,0.5)\n",
    "#er2c = copy.deepcopy(er2)\n",
    "#\n",
    "#\n",
    "#\n",
    "#er3 = nx.erdos_renyi_graph(20,0.3)\n",
    "#new_graph = combine_graph([erc,er2c])\n",
    "#nx.draw(new_graph)\n",
    "#plt.show()\n",
    "\n",
    "perc = 5\n",
    "inf_prob = 0.4\n",
    "dict_con,loc_count,loc_coord, pop = read_csv('population2.csv')\n",
    "\n",
    "g_con = []\n",
    "for a in dict_con:\n",
    "    g = nx.erdos_renyi_graph(a['nodes_num'],a['prob']/10.0)\n",
    "    nx.set_node_attributes(g,'zone',a['zone'])\n",
    "    nx.set_node_attributes(g,'location',a['location'])\n",
    "    g_con.append(g)\n",
    "\n",
    "f_graph = combine_graph(g_con)\n",
    "for i in f_graph.nodes():\n",
    "    f_graph.node[i]['status'] = 'S'\n",
    "\n",
    "total_pop = nx.number_of_nodes(f_graph)\n",
    "# infected_no = int(round(total_pop*(perc/100.0)))\n"
   ]
  },
  {
   "cell_type": "code",
   "execution_count": null,
   "metadata": {
    "collapsed": false
   },
   "outputs": [],
   "source": [
    "print nx.number_of_edges(f_graph)"
   ]
  },
  {
   "cell_type": "code",
   "execution_count": null,
   "metadata": {
    "collapsed": false
   },
   "outputs": [],
   "source": [
    "neighbors = {}\n",
    "distances = []\n",
    "for location,coord in loc_coord.iteritems():\n",
    "    gravities = []\n",
    "    if pop[location] == 0:\n",
    "        continue\n",
    "    for key,value in loc_coord.iteritems():\n",
    "        dist = math.sqrt( (coord[0] - value[0])**2 + (coord[1] - value[1])**2 )\n",
    "        if dist == 0 or pop[key] == 0:\n",
    "            continue\n",
    "        G = float(pop[location]*pop[key])/dist**2\n",
    "        gravities.append([G,key])\n",
    "    gravities = sorted(gravities,key=lambda x: x[0],reverse=True)\n",
    "    for i in gravities[:4]:\n",
    "        distances.append(i[0])\n",
    "    neighbors[location] = gravities[:4]\n",
    "    \n",
    "distances.sort()\n",
    "print len(distances)\n",
    "\n",
    "    \n",
    "#myFile= open( 'out.csv', 'wb' )\n",
    "#wtr= csv.writer( myFile )\n",
    "#with open('population.csv', 'rb') as f:\n",
    "#    reader = csv.reader(f)\n",
    "#    header = reader.next()\n",
    "#    wtr.writerow(header + ['Inf_pop'])\n",
    "#    for row in reader:\n",
    "#        wtr.writerow(row + [loc[row[1]]])\n",
    "#myFile.close()"
   ]
  },
  {
   "cell_type": "code",
   "execution_count": null,
   "metadata": {
    "collapsed": false
   },
   "outputs": [],
   "source": [
    "ranges = []\n",
    "for i in range(1,6):\n",
    "    if i == 5:    \n",
    "        ranges.append((distances[(i-1)*190],distances[-1]))\n",
    "    else:\n",
    "        ranges.append((distances[(i-1)*190],distances[(i)*190]))\n",
    "print ranges\n"
   ]
  },
  {
   "cell_type": "code",
   "execution_count": null,
   "metadata": {
    "collapsed": false
   },
   "outputs": [],
   "source": [
    "def bin_pop(value,ranges):\n",
    "    for i in ranges:\n",
    "        if i[0]<= value < i[1]:\n",
    "            return 0.001 + 0.003*ranges.index(i)\n",
    "    print value\n",
    "    return 0.001 + 0.003*4\n",
    "for key,n in neighbors.iteritems():\n",
    "    for i in n:\n",
    "        i.append(bin_pop(i[0],ranges))\n",
    "print neighbors"
   ]
  },
  {
   "cell_type": "code",
   "execution_count": null,
   "metadata": {
    "collapsed": false
   },
   "outputs": [],
   "source": [
    "def make_edge(p):\n",
    "    return True if random.random() <= p else False\n",
    "\n",
    "for pa,n in neighbors.iteritems():\n",
    "    cluster1 = list((n for n in f_graph if f_graph.node[n]['location']==pa))\n",
    "    for i in n:\n",
    "        cluster2 = list((n for n in f_graph if f_graph.node[n]['location']==i[1]))\n",
    "        for j in cluster1:\n",
    "            for k in cluster2:\n",
    "                if make_edge(i[2]):\n",
    "                    f_graph.add_edge(j,k)\n"
   ]
  },
  {
   "cell_type": "code",
   "execution_count": null,
   "metadata": {
    "collapsed": false,
    "scrolled": true
   },
   "outputs": [],
   "source": [
    "print nx.number_of_edges(f_graph)\n",
    "a = list((n for n in f_graph if f_graph.node[n]['location']=='Tampines East'))\n",
    "print a[0], a[-1]"
   ]
  },
  {
   "cell_type": "code",
   "execution_count": null,
   "metadata": {
    "collapsed": false
   },
   "outputs": [],
   "source": [
    "infected_no = 3\n",
    "\n",
    "infected_seed = set(random.sample(range(28634,30019),infected_no))\n",
    "for i in infected_seed:\n",
    "    f_graph.node[i]['status'] = 'I'\n",
    "for a in range(20):\n",
    "    for i in infected_seed:\n",
    "        for n in f_graph.neighbors(i):\n",
    "            if f_graph.node[n]['status'] != 'I':\n",
    "                f_graph.node[n]['status'] = flip(inf_prob)\n",
    "                \n",
    "    for i,dict in f_graph.nodes_iter(data=True):\n",
    "        if dict['status'] == 'I':  \n",
    "            loc_count[dict['location']] += 1\n",
    "            infected_seed.add(i)        \n",
    "    print loc_count\n",
    "    filename = \"out\" + str(a) +'.csv'\n",
    "    myFile= open(\"out\" + str(a+1) +'.csv', 'wb' )\n",
    "    wtr= csv.writer( myFile )\n",
    "    with open(filename, 'rb') as f:\n",
    "       reader = csv.reader(f)\n",
    "       header = reader.next()\n",
    "       wtr.writerow(header + ['Inf_pop day ' + str(a)])\n",
    "       for row in reader:\n",
    "           wtr.writerow(row + [loc_count[row[1]]])\n",
    "    myFile.close()\n",
    "    \n",
    "    for key,value in loc_count.iteritems():\n",
    "        value = 0\n",
    "    print loc_count"
   ]
  },
  {
   "cell_type": "code",
   "execution_count": null,
   "metadata": {
    "collapsed": true
   },
   "outputs": [],
   "source": []
  }
 ],
 "metadata": {
  "kernelspec": {
   "display_name": "Python 2",
   "language": "python",
   "name": "python2"
  },
  "language_info": {
   "codemirror_mode": {
    "name": "ipython",
    "version": 2
   },
   "file_extension": ".py",
   "mimetype": "text/x-python",
   "name": "python",
   "nbconvert_exporter": "python",
   "pygments_lexer": "ipython2",
   "version": "2.7.11"
  }
 },
 "nbformat": 4,
 "nbformat_minor": 0
}
